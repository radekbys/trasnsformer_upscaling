{
 "cells": [
  {
   "cell_type": "code",
   "execution_count": 1,
   "id": "98cda0e3",
   "metadata": {},
   "outputs": [],
   "source": [
    "import torch\n",
    "import PIL\n",
    "import os\n",
    "import torchmetrics\n",
    "from torch import nn\n",
    "from torch.utils.data import Dataset, DataLoader\n",
    "from torchvision.transforms import v2\n",
    "\n",
    "device = \"cuda\" if torch.cuda.is_available() else \"cpu\""
   ]
  },
  {
   "cell_type": "code",
   "execution_count": 2,
   "id": "887839d5",
   "metadata": {},
   "outputs": [],
   "source": [
    "\n",
    "\n",
    "class CustomDataset(Dataset):\n",
    "    def __init__(self, path, smallResolution, largeResolution):\n",
    "        super().__init__()\n",
    "        self.image_filenames = sorted(os.listdir(path))\n",
    "\n",
    "        self.data = []\n",
    "        for filename in self.image_filenames:\n",
    "            imagePath = os.path.join(path, filename)\n",
    "\n",
    "            transform = v2.Compose(\n",
    "                [v2.PILToTensor(), v2.ToDtype(torch.float32, scale=True)]\n",
    "            )\n",
    "\n",
    "            im = PIL.Image.open(imagePath)\n",
    "            X = im.resize(smallResolution)\n",
    "            X = transform(X)\n",
    "            y = im.resize(largeResolution)\n",
    "            y = transform(y)\n",
    "\n",
    "            self.data.append((X, y))\n",
    "\n",
    "    def __len__(self):\n",
    "        return len(self.data)\n",
    "\n",
    "    def __getitem__(self, idx):\n",
    "        return self.data[idx]"
   ]
  },
  {
   "cell_type": "markdown",
   "id": "318b622c",
   "metadata": {},
   "source": [
    "# Building a vision transformer"
   ]
  },
  {
   "cell_type": "code",
   "execution_count": 3,
   "id": "5bf902ef",
   "metadata": {},
   "outputs": [],
   "source": [
    "class PatchEmbedding(nn.Module):\n",
    "    def __init__(self, img_size, patch_size, in_channels, embed_dim):\n",
    "        super().__init__()\n",
    "        self.patch_size = patch_size\n",
    "        self.img_size = img_size\n",
    "        self.grid_size = (img_size[0] // patch_size, img_size[1] // patch_size)\n",
    "        num_patches = self.grid_size[0] * self.grid_size[1]\n",
    "        \n",
    "        self.proj = nn.Conv2d(\n",
    "            in_channels=in_channels,\n",
    "            out_channels=embed_dim,\n",
    "            kernel_size=patch_size,\n",
    "            stride=patch_size,\n",
    "        )\n",
    "        self.pos_embed = nn.Parameter(torch.randn(1, num_patches, embed_dim))\n",
    "        \n",
    "    \n",
    "    def forward(self, x:torch.Tensor):\n",
    "        B=x.size(0)\n",
    "        x= self.proj(x) # (B, embed_dim, H//P, W//P)\n",
    "        x=x.flatten(2).transpose(1,2) # (B, N, embed_dim)\n",
    "        x = x + self.pos_embed\n",
    "        return x, self.grid_size"
   ]
  },
  {
   "cell_type": "code",
   "execution_count": 4,
   "id": "6cf38ee2",
   "metadata": {},
   "outputs": [],
   "source": [
    "class MLP(nn.Module):\n",
    "    def __init__(self, in_features, hidden_features, drop_rate):\n",
    "        super().__init__()\n",
    "        self.layers = nn.Sequential(\n",
    "            nn.Linear(in_features=in_features, out_features=hidden_features),\n",
    "            nn.GELU(),\n",
    "            nn.Dropout(drop_rate),\n",
    "            nn.Linear(in_features=hidden_features, out_features=in_features),\n",
    "            nn.Dropout(drop_rate),\n",
    "        )\n",
    "\n",
    "    def forward(self, x: torch.Tensor):\n",
    "        return self.layers(x)"
   ]
  },
  {
   "cell_type": "code",
   "execution_count": 5,
   "id": "399fcd7f",
   "metadata": {},
   "outputs": [],
   "source": [
    "class TransformerEncoderLayer(nn.Module):\n",
    "    def __init__(self, embed_dim, num_heads, mlp_dim, drop_rate):\n",
    "        super().__init__()\n",
    "        self.norm1 = nn.LayerNorm(embed_dim)\n",
    "        self.attention = nn.MultiheadAttention(embed_dim=embed_dim, num_heads=num_heads, dropout=drop_rate, batch_first=True)\n",
    "        self.norm2 = nn.LayerNorm(embed_dim)\n",
    "        self.mlp = MLP(in_features=embed_dim, hidden_features=mlp_dim, drop_rate=drop_rate)\n",
    "        \n",
    "    def forward(self, x):\n",
    "        x = x+ self.attention(self.norm1(x), self.norm1(x), self.norm1(x))[0]\n",
    "        x = x + self.mlp(self.norm2(x))\n",
    "        return x\n",
    "        "
   ]
  },
  {
   "cell_type": "code",
   "execution_count": 6,
   "id": "19a72fdc",
   "metadata": {},
   "outputs": [],
   "source": [
    "class Decoder(nn.Module):\n",
    "    def __init__(self, embed_dim, out_channels, upsample_factor):\n",
    "        super().__init__()\n",
    "        self.upsample = nn.Sequential(\n",
    "            nn.Conv2d(embed_dim, embed_dim, kernel_size=3, padding=1),\n",
    "            nn.ReLU(),\n",
    "            nn.Upsample(scale_factor=upsample_factor, mode='bilinear', align_corners=False),\n",
    "            nn.Conv2d(embed_dim, out_channels, kernel_size=3, padding=1)\n",
    "        )\n",
    "\n",
    "    def forward(self, x, grid_size):\n",
    "        # x: (B, N, E)\n",
    "        B, N, E = x.shape\n",
    "        H, W = grid_size\n",
    "        x = x.transpose(1, 2).reshape(B, E, H, W)  # (B, E, H, W)\n",
    "        x = self.upsample(x)  # (B, 3, H*scale, W*scale)\n",
    "        return x"
   ]
  },
  {
   "cell_type": "code",
   "execution_count": 7,
   "id": "727cd37c",
   "metadata": {},
   "outputs": [],
   "source": [
    "class VisionTransformer(nn.Module):\n",
    "    def __init__(\n",
    "        self,\n",
    "        img_size,\n",
    "        patch_size,\n",
    "        embed_dim,\n",
    "        depth,\n",
    "        num_heads,\n",
    "        mlp_dim,\n",
    "        drop_rate=0.2,\n",
    "        in_channels=3,\n",
    "    ):\n",
    "        super().__init__()\n",
    "        self.patchEmbed = PatchEmbedding(\n",
    "            img_size=img_size,\n",
    "            patch_size=patch_size,\n",
    "            in_channels=in_channels,\n",
    "            embed_dim=embed_dim,\n",
    "        )\n",
    "        self.encoder = nn.Sequential(\n",
    "            *[\n",
    "                TransformerEncoderLayer(\n",
    "                    embed_dim=embed_dim,\n",
    "                    num_heads=num_heads,\n",
    "                    mlp_dim=mlp_dim,\n",
    "                    drop_rate=drop_rate,\n",
    "                )\n",
    "                for _ in range(depth)\n",
    "            ]\n",
    "        )\n",
    "        self.norm = nn.LayerNorm(embed_dim)\n",
    "        self.decoder = Decoder(embed_dim=embed_dim, out_channels=3, upsample_factor=patch_size*2)\n",
    "\n",
    "    def forward(self, x):\n",
    "        x, grid_size = self.patchEmbed(x)  # (B, N, E)\n",
    "        x = self.encoder(x)  # (B, N, E)\n",
    "        x = self.norm(x)  # (B, N, E)\n",
    "        x = self.decoder(x, grid_size)  # (B, 3, H, W)\n",
    "        return x"
   ]
  },
  {
   "cell_type": "code",
   "execution_count": 8,
   "id": "0447d56c",
   "metadata": {},
   "outputs": [
    {
     "name": "stdout",
     "output_type": "stream",
     "text": [
      "torch.Size([1, 3, 720, 1280])\n"
     ]
    }
   ],
   "source": [
    "model = VisionTransformer(img_size=(360, 640), patch_size=8,\n",
    "                          embed_dim=512, depth=4, num_heads=8, mlp_dim=1024).to(device)\n",
    "\n",
    "image = torch.randn(1, 3, 360, 640).to(device)\n",
    "output = model(image)\n",
    "print(output.shape)  # Expected: (1, 3, 74, 1280)"
   ]
  },
  {
   "cell_type": "code",
   "execution_count": 9,
   "id": "1ba4b89c",
   "metadata": {},
   "outputs": [],
   "source": [
    "optimizer = torch.optim.Adam(params = model.parameters(), lr=0.00001)\n",
    "# optimizer = torch.optim.Adam(params = model_01.parameters(), lr=0.000001)\n",
    "cost_fn = torch.nn.SmoothL1Loss()"
   ]
  },
  {
   "cell_type": "code",
   "execution_count": 10,
   "id": "3d1b4430",
   "metadata": {},
   "outputs": [
    {
     "ename": "KeyboardInterrupt",
     "evalue": "",
     "output_type": "error",
     "traceback": [
      "\u001b[31m---------------------------------------------------------------------------\u001b[39m",
      "\u001b[31mKeyboardInterrupt\u001b[39m                         Traceback (most recent call last)",
      "\u001b[36mCell\u001b[39m\u001b[36m \u001b[39m\u001b[32mIn[10]\u001b[39m\u001b[32m, line 1\u001b[39m\n\u001b[32m----> \u001b[39m\u001b[32m1\u001b[39m trainDataset = \u001b[43mCustomDataset\u001b[49m\u001b[43m(\u001b[49m\n\u001b[32m      2\u001b[39m \u001b[43m    \u001b[49m\u001b[33;43m\"\u001b[39;49m\u001b[33;43m/home/radekbys/Code/trasnsformer_upscaling/dataset/DIV2K_train_HR/DIV2K_train_HR\u001b[39;49m\u001b[33;43m\"\u001b[39;49m\u001b[43m,\u001b[49m\n\u001b[32m      3\u001b[39m \u001b[43m    \u001b[49m\u001b[43m(\u001b[49m\u001b[32;43m640\u001b[39;49m\u001b[43m,\u001b[49m\u001b[43m \u001b[49m\u001b[32;43m360\u001b[39;49m\u001b[43m)\u001b[49m\u001b[43m,\u001b[49m\n\u001b[32m      4\u001b[39m \u001b[43m    \u001b[49m\u001b[43m(\u001b[49m\u001b[32;43m1280\u001b[39;49m\u001b[43m,\u001b[49m\u001b[43m \u001b[49m\u001b[32;43m720\u001b[39;49m\u001b[43m)\u001b[49m\u001b[43m,\u001b[49m\n\u001b[32m      5\u001b[39m \u001b[43m)\u001b[49m\n\u001b[32m      7\u001b[39m testDataset = CustomDataset(\n\u001b[32m      8\u001b[39m     \u001b[33m\"\u001b[39m\u001b[33m/home/radekbys/Code/trasnsformer_upscaling/dataset/DIV2K_valid_HR/DIV2K_valid_HR\u001b[39m\u001b[33m\"\u001b[39m,\n\u001b[32m      9\u001b[39m     (\u001b[32m640\u001b[39m, \u001b[32m360\u001b[39m),\n\u001b[32m     10\u001b[39m     (\u001b[32m1280\u001b[39m, \u001b[32m720\u001b[39m),\n\u001b[32m     11\u001b[39m )\n",
      "\u001b[36mCell\u001b[39m\u001b[36m \u001b[39m\u001b[32mIn[2]\u001b[39m\u001b[32m, line 15\u001b[39m, in \u001b[36mCustomDataset.__init__\u001b[39m\u001b[34m(self, path, smallResolution, largeResolution)\u001b[39m\n\u001b[32m     10\u001b[39m transform = v2.Compose(\n\u001b[32m     11\u001b[39m     [v2.PILToTensor(), v2.ToDtype(torch.float32, scale=\u001b[38;5;28;01mTrue\u001b[39;00m)]\n\u001b[32m     12\u001b[39m )\n\u001b[32m     14\u001b[39m im = PIL.Image.open(imagePath)\n\u001b[32m---> \u001b[39m\u001b[32m15\u001b[39m X = \u001b[43mim\u001b[49m\u001b[43m.\u001b[49m\u001b[43mresize\u001b[49m\u001b[43m(\u001b[49m\u001b[43msmallResolution\u001b[49m\u001b[43m)\u001b[49m\n\u001b[32m     16\u001b[39m X = transform(X)\n\u001b[32m     17\u001b[39m y = im.resize(largeResolution)\n",
      "\u001b[36mFile \u001b[39m\u001b[32m~/Code/trasnsformer_upscaling/.venv/lib/python3.12/site-packages/PIL/Image.py:2345\u001b[39m, in \u001b[36mImage.resize\u001b[39m\u001b[34m(self, size, resample, box, reducing_gap)\u001b[39m\n\u001b[32m   2342\u001b[39m     im = im.resize(size, resample, box)\n\u001b[32m   2343\u001b[39m     \u001b[38;5;28;01mreturn\u001b[39;00m im.convert(\u001b[38;5;28mself\u001b[39m.mode)\n\u001b[32m-> \u001b[39m\u001b[32m2345\u001b[39m \u001b[38;5;28;43mself\u001b[39;49m\u001b[43m.\u001b[49m\u001b[43mload\u001b[49m\u001b[43m(\u001b[49m\u001b[43m)\u001b[49m\n\u001b[32m   2347\u001b[39m \u001b[38;5;28;01mif\u001b[39;00m reducing_gap \u001b[38;5;129;01mis\u001b[39;00m \u001b[38;5;129;01mnot\u001b[39;00m \u001b[38;5;28;01mNone\u001b[39;00m \u001b[38;5;129;01mand\u001b[39;00m resample != Resampling.NEAREST:\n\u001b[32m   2348\u001b[39m     factor_x = \u001b[38;5;28mint\u001b[39m((box[\u001b[32m2\u001b[39m] - box[\u001b[32m0\u001b[39m]) / size[\u001b[32m0\u001b[39m] / reducing_gap) \u001b[38;5;129;01mor\u001b[39;00m \u001b[32m1\u001b[39m\n",
      "\u001b[36mFile \u001b[39m\u001b[32m~/Code/trasnsformer_upscaling/.venv/lib/python3.12/site-packages/PIL/ImageFile.py:300\u001b[39m, in \u001b[36mImageFile.load\u001b[39m\u001b[34m(self)\u001b[39m\n\u001b[32m    297\u001b[39m         \u001b[38;5;28;01mraise\u001b[39;00m \u001b[38;5;167;01mOSError\u001b[39;00m(msg)\n\u001b[32m    299\u001b[39m b = b + s\n\u001b[32m--> \u001b[39m\u001b[32m300\u001b[39m n, err_code = \u001b[43mdecoder\u001b[49m\u001b[43m.\u001b[49m\u001b[43mdecode\u001b[49m\u001b[43m(\u001b[49m\u001b[43mb\u001b[49m\u001b[43m)\u001b[49m\n\u001b[32m    301\u001b[39m \u001b[38;5;28;01mif\u001b[39;00m n < \u001b[32m0\u001b[39m:\n\u001b[32m    302\u001b[39m     \u001b[38;5;28;01mbreak\u001b[39;00m\n",
      "\u001b[31mKeyboardInterrupt\u001b[39m: "
     ]
    }
   ],
   "source": [
    "trainDataset = CustomDataset(\n",
    "    \"/home/radekbys/Code/trasnsformer_upscaling/dataset/DIV2K_train_HR/DIV2K_train_HR\",\n",
    "    (640, 360),\n",
    "    (1280, 720),\n",
    ")\n",
    "\n",
    "testDataset = CustomDataset(\n",
    "    \"/home/radekbys/Code/trasnsformer_upscaling/dataset/DIV2K_valid_HR/DIV2K_valid_HR\",\n",
    "    (640, 360),\n",
    "    (1280, 720),\n",
    ")"
   ]
  },
  {
   "cell_type": "code",
   "execution_count": null,
   "id": "41acee77",
   "metadata": {},
   "outputs": [
    {
     "data": {
      "text/plain": [
       "(800, 100)"
      ]
     },
     "execution_count": 11,
     "metadata": {},
     "output_type": "execute_result"
    }
   ],
   "source": [
    "train_dataloader = DataLoader(trainDataset, 1, shuffle=True)\n",
    "test_dataloader = DataLoader(testDataset, 1, shuffle=False)\n",
    "len(train_dataloader), len(test_dataloader)"
   ]
  },
  {
   "cell_type": "code",
   "execution_count": null,
   "id": "e6a6cc91",
   "metadata": {},
   "outputs": [
    {
     "name": "stdout",
     "output_type": "stream",
     "text": [
      "epoch: 1 || train_loss: 0.021285324087366463 || test_loss: 0.01327912399545312 || mean square error: 0.026558279991149902\n",
      "epoch: 1 || train_loss: 0.011404611095786095 || test_loss: 0.010112270503304899 || mean square error: 0.020224547013640404\n",
      "epoch: 1 || train_loss: 0.009907830564770848 || test_loss: 0.00862320015206933 || mean square error: 0.01724640093743801\n"
     ]
    },
    {
     "ename": "KeyboardInterrupt",
     "evalue": "",
     "output_type": "error",
     "traceback": [
      "\u001b[31m---------------------------------------------------------------------------\u001b[39m",
      "\u001b[31mKeyboardInterrupt\u001b[39m                         Traceback (most recent call last)",
      "\u001b[36mCell\u001b[39m\u001b[36m \u001b[39m\u001b[32mIn[12]\u001b[39m\u001b[32m, line 8\u001b[39m\n\u001b[32m      6\u001b[39m \u001b[38;5;28;01mfor\u001b[39;00m i, (X, y) \u001b[38;5;129;01min\u001b[39;00m \u001b[38;5;28menumerate\u001b[39m(train_dataloader):\n\u001b[32m      7\u001b[39m     model.train()\n\u001b[32m----> \u001b[39m\u001b[32m8\u001b[39m     X = \u001b[43mX\u001b[49m\u001b[43m.\u001b[49m\u001b[43mto\u001b[49m\u001b[43m(\u001b[49m\u001b[33;43m\"\u001b[39;49m\u001b[33;43mcuda\u001b[39;49m\u001b[33;43m\"\u001b[39;49m\u001b[43m)\u001b[49m\n\u001b[32m      9\u001b[39m     y = y.to(\u001b[33m\"\u001b[39m\u001b[33mcuda\u001b[39m\u001b[33m\"\u001b[39m)\n\u001b[32m     10\u001b[39m     output = model(X)\n",
      "\u001b[31mKeyboardInterrupt\u001b[39m: "
     ]
    }
   ],
   "source": [
    "epochs = 20\n",
    "metric = torchmetrics.MeanSquaredError().to(\"cuda\")\n",
    "\n",
    "for epoch in range(epochs):\n",
    "    losses = []\n",
    "    for i, (X, y) in enumerate(train_dataloader):\n",
    "        model.train()\n",
    "        X = X.to(\"cuda\")\n",
    "        y = y.to(\"cuda\")\n",
    "        output = model(X)\n",
    "        loss = cost_fn(input=output, target=y)\n",
    "        losses.append(loss.item())\n",
    "        optimizer.zero_grad()\n",
    "        loss.backward()\n",
    "        optimizer.step()\n",
    "        if (i + 1) % 800 == 0:\n",
    "            model.eval()\n",
    "            with torch.inference_mode():\n",
    "\n",
    "                test_losses = []\n",
    "                mserrors = []\n",
    "                for j in range(100):\n",
    "                    # idx = random.random()\n",
    "                    # idx = int(idx * 100)\n",
    "                    idx = j\n",
    "                    X = testDataset[idx][0].unsqueeze(0).to(\"cuda\")\n",
    "                    y = testDataset[idx][1].unsqueeze(0).to(\"cuda\")\n",
    "                    test_output = model(X)\n",
    "                    test_loss = cost_fn(input=test_output, target=y)\n",
    "                    test_losses.append(test_loss.item())\n",
    "                    mse = metric(test_output.contiguous(), y.contiguous())\n",
    "                    mserrors.append(mse)\n",
    "\n",
    "                train_loss = sum(losses) / len(losses)\n",
    "                test_loss = sum(test_losses) / len(test_losses)\n",
    "                mse = sum(mserrors) / len(mserrors)\n",
    "\n",
    "                print(\n",
    "                    f\"epoch: {epoch+1} || train_loss: {train_loss} || test_loss: {test_loss} || mean square error: {mse}\"\n",
    "                )\n",
    "                losses.clear()\n",
    "    if (epoch + 1) % 5 == 0:\n",
    "        torch.save(model.state_dict(), f\"upscaler_ver_1_e{epoch+1}.pt\")"
   ]
  }
 ],
 "metadata": {
  "kernelspec": {
   "display_name": ".venv",
   "language": "python",
   "name": "python3"
  },
  "language_info": {
   "codemirror_mode": {
    "name": "ipython",
    "version": 3
   },
   "file_extension": ".py",
   "mimetype": "text/x-python",
   "name": "python",
   "nbconvert_exporter": "python",
   "pygments_lexer": "ipython3",
   "version": "3.12.3"
  }
 },
 "nbformat": 4,
 "nbformat_minor": 5
}
